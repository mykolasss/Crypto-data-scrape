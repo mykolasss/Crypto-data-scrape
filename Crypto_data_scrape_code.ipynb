{
 "cells": [
  {
   "cell_type": "code",
   "execution_count": null,
   "metadata": {},
   "outputs": [],
   "source": [
    "#Importing libraries\n",
    "import requests\n",
    "from bs4 import BeautifulSoup as soup\n",
    "import csv\n",
    "import pandas as pd\n",
    "import os\n",
    "import regex as re\n",
    "from openpyxl import load_workbook"
   ]
  },
  {
   "cell_type": "code",
   "execution_count": null,
   "metadata": {},
   "outputs": [],
   "source": [
    "url = \"https://www.coingecko.com/\" #The site from which the data will be gathered\n",
    "top_100_crypto_links = []\n",
    "response = requests.get(url)\n",
    "sriuba = soup(response.content, 'html.parser') #BeautifulSoup instance of the site\n",
    "#Gathering the links to individual currencies\n",
    "for x in sriuba.find('div', {'class' : 'coingecko-table'}).find('tbody').find_all('tr'):\n",
    "    for y in x.find_all('a', class_ = 'tw-hidden lg:tw-flex font-bold tw-items-center tw-justify-between'):\n",
    "        top_100_crypto_links.append(url + str(y.get('href')) + '/historical_data/eur#panel')\n",
    "#Creating an excel file for storing the data\n",
    "FilePath = os.getcwd() + '\\\\Crypto_prices.xlsx'\n",
    "FilePath = FilePath.replace('\\\\', '/')\n",
    "pd.DataFrame().to_excel('Crypto_prices.xlsx')\n",
    "ExcelWorkbook = load_workbook(FilePath)\n",
    "writer = pd.ExcelWriter(FilePath, engine = 'openpyxl')\n",
    "writer.book = ExcelWorkbook\n",
    "#Gathering data from individual links of the crypto currencies\n",
    "psl = 0\n",
    "for link in top_100_crypto_links:\n",
    "    response = requests.get(link)\n",
    "    sriuba = soup(response.content, 'html.parser')\n",
    "    lst = []\n",
    "    for name in sriuba.find_all('div', class_ = 'mr-md-3 tw-pl-2 md:tw-mb-0 tw-text-xl tw-font-bold tw-mb-0'): #Finding the name of the currency\n",
    "        psl += 1\n",
    "        print('Sheet{}: '.format(int(psl)) + name.text)\n",
    "    for x in sriuba.find('tbody'): #Gathering the data, storing it to a dataframe and then appending it to the excel file\n",
    "        if type(x.find('th')) != int:\n",
    "            lst.append(x.text.split())\n",
    "            dataframe = pd.DataFrame(lst, columns = ['Date', 'Market Cap', 'Volume', 'Open', 'Close']).to_excel(writer, sheet_name = str(name.text))\n",
    "            writer.save()\n",
    "            writer.close()"
   ]
  }
 ],
 "metadata": {
  "kernelspec": {
   "display_name": "Python 3",
   "language": "python",
   "name": "python3"
  },
  "language_info": {
   "codemirror_mode": {
    "name": "ipython",
    "version": 3
   },
   "file_extension": ".py",
   "mimetype": "text/x-python",
   "name": "python",
   "nbconvert_exporter": "python",
   "pygments_lexer": "ipython3",
   "version": "3.8.3"
  }
 },
 "nbformat": 4,
 "nbformat_minor": 4
}
